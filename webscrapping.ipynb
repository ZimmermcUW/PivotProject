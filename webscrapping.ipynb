{
 "cells": [
  {
   "cell_type": "code",
   "execution_count": 9,
   "metadata": {},
   "outputs": [
    {
     "name": "stdout",
     "output_type": "stream",
     "text": [
      "Requirement already satisfied: selenium in /Users/alexreynolds/opt/anaconda3/lib/python3.8/site-packages (3.141.0)\n",
      "Requirement already satisfied: urllib3 in /Users/alexreynolds/opt/anaconda3/lib/python3.8/site-packages (from selenium) (1.25.9)\n",
      "Note: you may need to restart the kernel to use updated packages.\n"
     ]
    }
   ],
   "source": [
    "pip install selenium"
   ]
  },
  {
   "cell_type": "code",
   "execution_count": 10,
   "metadata": {},
   "outputs": [
    {
     "name": "stdout",
     "output_type": "stream",
     "text": [
      "Welcome, Charlotte!\n"
     ]
    }
   ],
   "source": [
    "# imports everything\n",
    "from selenium import webdriver\n",
    "from selenium.webdriver.firefox.firefox_binary import FirefoxBinary\n",
    "from selenium.common.exceptions import NoSuchElementException\n",
    "\n",
    "from selenium.webdriver.common.by import By\n",
    "from selenium.webdriver.support.ui import WebDriverWait\n",
    "from selenium.webdriver.support import expected_conditions as EC\n",
    "\n",
    "exepath = \"/Users/alexreynolds/Desktop/important/physics/research/coding/geckodriver\"\n",
    "firefoxpath = \"/Applications/Firefox.app/Contents/MacOS/firefox-bin\"\n",
    "\n",
    "print(\"Welcome, Charlotte!\")"
   ]
  },
  {
   "cell_type": "code",
   "execution_count": 11,
   "metadata": {},
   "outputs": [
    {
     "name": "stdout",
     "output_type": "stream",
     "text": [
      "Now running Selenium :)\n"
     ]
    }
   ],
   "source": [
    "# opens selenium driver\n",
    "binary = FirefoxBinary(firefoxpath)\n",
    "driver = webdriver.Firefox(firefox_binary=binary,executable_path=exepath)\n",
    "driver.get('https://app.pivotinteractives.com/login')\n",
    "\n",
    "print(\"Now running Selenium :)\")"
   ]
  },
  {
   "cell_type": "code",
   "execution_count": 12,
   "metadata": {},
   "outputs": [
    {
     "name": "stdout",
     "output_type": "stream",
     "text": [
      "Logged in successfully!\n"
     ]
    }
   ],
   "source": [
    "# logs in \n",
    "username = \"phys121z@uw.edu\"\n",
    "password = \"p121LAB!\"\n",
    "w = WebDriverWait(driver, 15).until(\n",
    "        EC.presence_of_element_located((By.ID, 'email'))\n",
    "    )\n",
    "login = driver.find_element_by_id('email').send_keys(username)\n",
    "password = driver.find_element_by_id('password').send_keys(password)\n",
    "submit = driver.find_element_by_class_name('form-button').click()\n",
    "w2 = WebDriverWait(driver, 5).until(EC.url_contains(\"dashboard\"))\n",
    "print(\"Logged in successfully!\")"
   ]
  },
  {
   "cell_type": "code",
   "execution_count": 13,
   "metadata": {},
   "outputs": [],
   "source": [
    "# clicks into archive to get archived classes\n",
    "myclasses = driver.find_element_by_xpath(\"//a[@class='nav-link'][1]\").click()\n",
    "w3 = driver.implicitly_wait(5)\n",
    "archive = driver.find_element_by_class_name(\"form-button\").click()\n",
    "archive2 = driver.find_element_by_class_name(\"dropdown-menu-right\").click()"
   ]
  },
  {
   "cell_type": "code",
   "execution_count": 14,
   "metadata": {},
   "outputs": [
    {
     "name": "stdout",
     "output_type": "stream",
     "text": [
      "20\n"
     ]
    }
   ],
   "source": [
    "# find number of TAs counted on page, ensures next code works, you want 20\n",
    "labsectionlen = len(driver.find_elements_by_partial_link_text(\"TA\"))\n",
    "print(labsectionlen)"
   ]
  },
  {
   "cell_type": "code",
   "execution_count": 15,
   "metadata": {},
   "outputs": [
    {
     "name": "stdout",
     "output_type": "stream",
     "text": [
      "35\n",
      "13\n"
     ]
    }
   ],
   "source": [
    "# edit range for only sp21 or wi21 TAs\n",
    "# SP TAs start with TA – WI TAs start with :\n",
    "# will have to figure out how to go next page to get WI TAs data \n",
    "for section in range(0,2):\n",
    "    labsection = driver.find_elements_by_partial_link_text(\"TA\")[section]\n",
    "    labsection.click()\n",
    "    # edit this line for each different lab\n",
    "    lab_parent = driver.find_element_by_partial_link_text(\"SPR21 Intro\").click()\n",
    "    numlabs = driver.find_elements_by_class_name(\"student-name-link\")\n",
    "    print(len(numlabs))\n",
    "    numlabs = numlabs[:len(numlabs) - 1]\n",
    "    # i = 0\n",
    "    # add i comments back in to ensure code is going through each student\n",
    "    firststudent = driver.find_element_by_class_name(\"student-name-link\").click()\n",
    "    for lab in numlabs:\n",
    "        w3\n",
    "        # i = i + 1\n",
    "        # print(i)\n",
    "        responses = driver.find_element_by_class_name(\"next-button\").click()\n",
    "    backout = driver.find_element_by_partial_link_text(\"Go Back To Scores View\").click()\n",
    "    myclasses = driver.find_element_by_xpath(\"//a[@class='nav-link'][1]\").click()\n",
    "    archive = driver.find_element_by_class_name(\"form-button\").click()\n",
    "    archive2 = driver.find_element_by_class_name(\"dropdown-menu-right\").click()\n"
   ]
  },
  {
   "cell_type": "code",
   "execution_count": 69,
   "metadata": {},
   "outputs": [],
   "source": [
    "# inside loop to just scroll through student responses within one TA name\n",
    "w3 = driver.implicitly_wait(5)\n",
    "firststudent = driver.find_element_by_class_name(\"student-name-link\").click()\n",
    "numlabs = numlabs[:len(numlabs) - 1]\n",
    "for lab in numlabs:\n",
    "    w3\n",
    "    responses = driver.find_element_by_class_name(\"next-button\").click()\n",
    "backout = driver.find_element_by_partial_link_text(\"Go Back To Scores View\").click()\n",
    "myclasses = driver.find_element_by_xpath(\"//a[@class='nav-link'][1]\").click()\n",
    "archive = driver.find_element_by_class_name(\"form-button\").click()\n",
    "archive2 = driver.find_element_by_class_name(\"dropdown-menu-right\").click()"
   ]
  },
  {
   "cell_type": "code",
   "execution_count": 50,
   "metadata": {},
   "outputs": [],
   "source": [
    "# old direct to a TA\n",
    "w3 = driver.implicitly_wait(5)\n",
    "labsection = driver.find_element_by_partial_link_text(\"Michael Clancy\").click()\n",
    "labs = driver.find_elements_by_partial_link_text(\"SUM21\")\n",
    "lab_parent = driver.find_element_by_partial_link_text(\"SUM21\").click()"
   ]
  },
  {
   "cell_type": "code",
   "execution_count": 51,
   "metadata": {},
   "outputs": [
    {
     "name": "stdout",
     "output_type": "stream",
     "text": [
      "30\n"
     ]
    }
   ],
   "source": [
    "# old figuring out range\n",
    "# numlabs = driver.find_elements_by_class_name(\"student-name-link\")\n",
    "# print(len(numlabs))"
   ]
  },
  {
   "cell_type": "code",
   "execution_count": 8,
   "metadata": {},
   "outputs": [],
   "source": [
    "# old labs loop\n",
    "# firststudent = driver.find_element_by_class_name(\"student-name-link\").click()\n",
    "# labs = labs[:30]\n",
    "# i = 0\n",
    "# for lab in labs:\n",
    "#     print(i)\n",
    "#     i = i + 1\n",
    "#     # w5 = WebDriverWait(driver, 20).until(EC.visibility_of_element_located((By.CLASS_NAME, \"heading-title\")))\n",
    "#     url = driver.current_url\n",
    "#     print(url)\n",
    "#     responses = driver.find_element_by_class_name(\"next-button\").click()\n",
    "    "
   ]
  },
  {
   "cell_type": "code",
   "execution_count": 7,
   "metadata": {},
   "outputs": [],
   "source": [
    "driver.quit()"
   ]
  },
  {
   "cell_type": "code",
   "execution_count": null,
   "metadata": {},
   "outputs": [],
   "source": []
  }
 ],
 "metadata": {
  "kernelspec": {
   "display_name": "Python 3",
   "language": "python",
   "name": "python3"
  },
  "language_info": {
   "codemirror_mode": {
    "name": "ipython",
    "version": 3
   },
   "file_extension": ".py",
   "mimetype": "text/x-python",
   "name": "python",
   "nbconvert_exporter": "python",
   "pygments_lexer": "ipython3",
   "version": "3.8.3"
  }
 },
 "nbformat": 4,
 "nbformat_minor": 4
}
