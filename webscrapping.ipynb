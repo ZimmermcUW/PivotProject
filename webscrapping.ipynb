{
 "cells": [
  {
   "cell_type": "code",
   "execution_count": 1,
   "metadata": {},
   "outputs": [
    {
     "name": "stdout",
     "output_type": "stream",
     "text": [
      "Requirement already satisfied: selenium in /Users/alexreynolds/opt/anaconda3/lib/python3.8/site-packages (3.141.0)\n",
      "Requirement already satisfied: urllib3 in /Users/alexreynolds/opt/anaconda3/lib/python3.8/site-packages (from selenium) (1.25.9)\n",
      "Note: you may need to restart the kernel to use updated packages.\n"
     ]
    }
   ],
   "source": [
    "pip install selenium"
   ]
  },
  {
   "cell_type": "code",
   "execution_count": 2,
   "metadata": {},
   "outputs": [
    {
     "name": "stdout",
     "output_type": "stream",
     "text": [
      "Welcome, Charlotte!\n"
     ]
    }
   ],
   "source": [
    "from selenium import webdriver\n",
    "from selenium.webdriver.firefox.firefox_binary import FirefoxBinary\n",
    "from selenium.common.exceptions import NoSuchElementException\n",
    "\n",
    "from selenium.webdriver.common.by import By\n",
    "from selenium.webdriver.support.ui import WebDriverWait\n",
    "from selenium.webdriver.support import expected_conditions as EC\n",
    "\n",
    "exepath = \"/Users/alexreynolds/Desktop/important/research/coding/geckodriver\"\n",
    "firefoxpath = \"/Applications/Firefox.app/Contents/MacOS/firefox-bin\"\n",
    "\n",
    "print(\"Welcome, Charlotte!\")"
   ]
  },
  {
   "cell_type": "code",
   "execution_count": 3,
   "metadata": {},
   "outputs": [
    {
     "name": "stdout",
     "output_type": "stream",
     "text": [
      "Now running Selenium :)\n"
     ]
    }
   ],
   "source": [
    "binary = FirefoxBinary(firefoxpath)\n",
    "driver = webdriver.Firefox(firefox_binary=binary,executable_path=exepath)\n",
    "driver.get('https://app.pivotinteractives.com/login')\n",
    "\n",
    "print(\"Now running Selenium :)\")"
   ]
  },
  {
   "cell_type": "code",
   "execution_count": 4,
   "metadata": {},
   "outputs": [
    {
     "name": "stdout",
     "output_type": "stream",
     "text": [
      "Logged in successfully!\n"
     ]
    }
   ],
   "source": [
    "\n",
    "username = \"phys121z@uw.edu\"\n",
    "password = \"p121LAB!\"\n",
    "w = WebDriverWait(driver, 15).until(\n",
    "        EC.presence_of_element_located((By.ID, 'email'))\n",
    "    )\n",
    "login = driver.find_element_by_id('email').send_keys(username)\n",
    "password = driver.find_element_by_id('password').send_keys(password)\n",
    "submit = driver.find_element_by_class_name('form-button').click()\n",
    "w2 = WebDriverWait(driver, 5).until(EC.url_contains(\"dashboard\"))\n",
    "print(\"Logged in successfully!\")"
   ]
  },
  {
   "cell_type": "code",
   "execution_count": 89,
   "metadata": {},
   "outputs": [],
   "source": [
    "# myclasses = driver.find_element_by_xpath(\"//a[@class='nav-link'][1]\").click()\n",
    "w3 = driver.implicitly_wait(5)\n",
    "archive = driver.find_element_by_class_name(\"form-button\").click()\n",
    "archive2 = driver.find_element_by_class_name(\"dropdown-menu-right\").click()"
   ]
  },
  {
   "cell_type": "code",
   "execution_count": 91,
   "metadata": {},
   "outputs": [
    {
     "name": "stdout",
     "output_type": "stream",
     "text": [
      "20\n"
     ]
    }
   ],
   "source": [
    "labsection = driver.find_elements_by_partial_link_text(\"TA\")\n",
    "print(len(labsection))"
   ]
  },
  {
   "cell_type": "code",
   "execution_count": 95,
   "metadata": {},
   "outputs": [
    {
     "ename": "AttributeError",
     "evalue": "'list' object has no attribute 'click'",
     "output_type": "error",
     "traceback": [
      "\u001b[0;31m---------------------------------------------------------------------------\u001b[0m",
      "\u001b[0;31mAttributeError\u001b[0m                            Traceback (most recent call last)",
      "\u001b[0;32m<ipython-input-95-d5b7b8db6cac>\u001b[0m in \u001b[0;36m<module>\u001b[0;34m\u001b[0m\n\u001b[1;32m      2\u001b[0m \u001b[0mlabsection\u001b[0m \u001b[0;34m=\u001b[0m \u001b[0mlabsection\u001b[0m\u001b[0;34m[\u001b[0m\u001b[0;34m:\u001b[0m\u001b[0;36m20\u001b[0m\u001b[0;34m]\u001b[0m\u001b[0;34m\u001b[0m\u001b[0;34m\u001b[0m\u001b[0m\n\u001b[1;32m      3\u001b[0m \u001b[0;32mfor\u001b[0m \u001b[0mx\u001b[0m \u001b[0;32min\u001b[0m \u001b[0mlabsection\u001b[0m\u001b[0;34m:\u001b[0m\u001b[0;34m\u001b[0m\u001b[0;34m\u001b[0m\u001b[0m\n\u001b[0;32m----> 4\u001b[0;31m     \u001b[0mlabsection\u001b[0m\u001b[0;34m.\u001b[0m\u001b[0mclick\u001b[0m\u001b[0;34m(\u001b[0m\u001b[0;34m)\u001b[0m\u001b[0;34m\u001b[0m\u001b[0;34m\u001b[0m\u001b[0m\n\u001b[0m\u001b[1;32m      5\u001b[0m     \u001b[0mlab_parent\u001b[0m \u001b[0;34m=\u001b[0m \u001b[0mdriver\u001b[0m\u001b[0;34m.\u001b[0m\u001b[0mfind_element_by_partial_link_text\u001b[0m\u001b[0;34m(\u001b[0m\u001b[0;34m\"SPR21\"\u001b[0m\u001b[0;34m)\u001b[0m\u001b[0;34m.\u001b[0m\u001b[0mclick\u001b[0m\u001b[0;34m(\u001b[0m\u001b[0;34m)\u001b[0m\u001b[0;34m\u001b[0m\u001b[0;34m\u001b[0m\u001b[0m\n\u001b[1;32m      6\u001b[0m     \u001b[0mfirststudent\u001b[0m \u001b[0;34m=\u001b[0m \u001b[0mdriver\u001b[0m\u001b[0;34m.\u001b[0m\u001b[0mfind_element_by_class_name\u001b[0m\u001b[0;34m(\u001b[0m\u001b[0;34m\"student-name-link\"\u001b[0m\u001b[0;34m)\u001b[0m\u001b[0;34m.\u001b[0m\u001b[0mclick\u001b[0m\u001b[0;34m(\u001b[0m\u001b[0;34m)\u001b[0m\u001b[0;34m\u001b[0m\u001b[0;34m\u001b[0m\u001b[0m\n",
      "\u001b[0;31mAttributeError\u001b[0m: 'list' object has no attribute 'click'"
     ]
    }
   ],
   "source": [
    "# broken: unable to get it to click on all elements that say TA\n",
    "labsection = labsection[:20]\n",
    "for x in labsection:\n",
    "    labsection.click()\n",
    "    lab_parent = driver.find_element_by_partial_link_text(\"SPR21\").click()\n",
    "    firststudent = driver.find_element_by_class_name(\"student-name-link\").click()\n",
    "    numlabs = driver.find_elements_by_class_name(\"student-name-link\")\n",
    "    print(len(numlabs))\n",
    "    numlabs = numlabs[:len(numlabs) - 1]\n",
    "    i = 0\n",
    "    for lab in numlabs:\n",
    "        w3\n",
    "        i = i + 1\n",
    "        print(i)\n",
    "        responses = driver.find_element_by_class_name(\"next-button\").click()\n",
    "    backout = driver.find_element_by_partial_link_text(\"Go Back To Scores View\").click()\n",
    "    myclasses = driver.find_element_by_xpath(\"//a[@class='nav-link'][1]\").click()\n",
    "    archive = driver.find_element_by_class_name(\"form-button\").click()\n",
    "    archive2 = driver.find_element_by_class_name(\"dropdown-menu-right\").click()"
   ]
  },
  {
   "cell_type": "code",
   "execution_count": 54,
   "metadata": {},
   "outputs": [
    {
     "name": "stdout",
     "output_type": "stream",
     "text": [
      "13\n"
     ]
    }
   ],
   "source": []
  },
  {
   "cell_type": "code",
   "execution_count": 68,
   "metadata": {},
   "outputs": [],
   "source": [
    "w3 = driver.implicitly_wait(5)\n",
    "firststudent = driver.find_element_by_class_name(\"student-name-link\").click()"
   ]
  },
  {
   "cell_type": "code",
   "execution_count": 69,
   "metadata": {},
   "outputs": [],
   "source": [
    "# this worked but im unsure about labs name\n",
    "numlabs = numlabs[:len(numlabs) - 1]\n",
    "for lab in numlabs:\n",
    "    w3\n",
    "    responses = driver.find_element_by_class_name(\"next-button\").click()\n",
    "backout = driver.find_element_by_partial_link_text(\"Go Back To Scores View\").click()\n",
    "myclasses = driver.find_element_by_xpath(\"//a[@class='nav-link'][1]\").click()\n",
    "archive = driver.find_element_by_class_name(\"form-button\").click()\n",
    "archive2 = driver.find_element_by_class_name(\"dropdown-menu-right\").click()"
   ]
  },
  {
   "cell_type": "code",
   "execution_count": 50,
   "metadata": {},
   "outputs": [],
   "source": [
    "w3 = driver.implicitly_wait(5)\n",
    "labsection = driver.find_element_by_partial_link_text(\"Michael Clancy\").click()\n",
    "labs = driver.find_elements_by_partial_link_text(\"SUM21\")\n",
    "lab_parent = driver.find_element_by_partial_link_text(\"SUM21\").click()"
   ]
  },
  {
   "cell_type": "code",
   "execution_count": 51,
   "metadata": {},
   "outputs": [
    {
     "name": "stdout",
     "output_type": "stream",
     "text": [
      "30\n"
     ]
    }
   ],
   "source": [
    "numlabs = driver.find_elements_by_class_name(\"student-name-link\")\n",
    "print(len(numlabs))"
   ]
  },
  {
   "cell_type": "code",
   "execution_count": 53,
   "metadata": {},
   "outputs": [
    {
     "name": "stdout",
     "output_type": "stream",
     "text": [
      "0\n",
      "https://app.pivotinteractives.com/assignments/60d0fea1453167001f895a68/responses/60d4c344e58879001e4ce26e\n",
      "1\n",
      "https://app.pivotinteractives.com/assignments/60d0fea1453167001f895a68/responses/60d3c3fcff8b1a001fc6069b\n",
      "2\n",
      "https://app.pivotinteractives.com/assignments/60d0fea1453167001f895a68/responses/60d392a4e23846001e680703\n",
      "3\n",
      "https://app.pivotinteractives.com/assignments/60d0fea1453167001f895a68/responses/606a9d9eb314270023cf7030\n",
      "4\n",
      "https://app.pivotinteractives.com/assignments/60d0fea1453167001f895a68/responses/60d7af2ed4d1b4001f7c39d1\n",
      "5\n",
      "https://app.pivotinteractives.com/assignments/60d0fea1453167001f895a68/responses/60d7af2ed4d1b4001f7c39d1\n",
      "6\n",
      "https://app.pivotinteractives.com/assignments/60d0fea1453167001f895a68/responses/60d43d781152e7001edf66ef\n",
      "7\n",
      "https://app.pivotinteractives.com/assignments/60d0fea1453167001f895a68/responses/60dba091a72df1001feebfde\n",
      "8\n",
      "https://app.pivotinteractives.com/assignments/60d0fea1453167001f895a68/responses/60d4f839ad62a8001fa24a36\n",
      "9\n",
      "https://app.pivotinteractives.com/assignments/60d0fea1453167001f895a68/responses/60d4b6e2aa9985001e888016\n",
      "10\n",
      "https://app.pivotinteractives.com/assignments/60d0fea1453167001f895a68/responses/60d63dd15d3189001e53b5b7\n",
      "11\n",
      "https://app.pivotinteractives.com/assignments/60d0fea1453167001f895a68/responses/60dd362e4c898900206757bc\n",
      "12\n",
      "https://app.pivotinteractives.com/assignments/60d0fea1453167001f895a68/responses/60d3f9f13f3e28001f4b325d\n"
     ]
    }
   ],
   "source": [
    "firststudent = driver.find_element_by_class_name(\"student-name-link\").click()\n",
    "labs = labs[:30]\n",
    "i = 0\n",
    "for lab in labs:\n",
    "    print(i)\n",
    "    i = i + 1\n",
    "    # w5 = WebDriverWait(driver, 20).until(EC.visibility_of_element_located((By.CLASS_NAME, \"heading-title\")))\n",
    "    url = driver.current_url\n",
    "    print(url)\n",
    "    responses = driver.find_element_by_class_name(\"next-button\").click()\n",
    "    "
   ]
  },
  {
   "cell_type": "code",
   "execution_count": 96,
   "metadata": {},
   "outputs": [],
   "source": [
    "driver.quit()"
   ]
  },
  {
   "cell_type": "code",
   "execution_count": null,
   "metadata": {},
   "outputs": [],
   "source": []
  }
 ],
 "metadata": {
  "kernelspec": {
   "display_name": "Python 3",
   "language": "python",
   "name": "python3"
  },
  "language_info": {
   "codemirror_mode": {
    "name": "ipython",
    "version": 3
   },
   "file_extension": ".py",
   "mimetype": "text/x-python",
   "name": "python",
   "nbconvert_exporter": "python",
   "pygments_lexer": "ipython3",
   "version": "3.8.3"
  }
 },
 "nbformat": 4,
 "nbformat_minor": 4
}
